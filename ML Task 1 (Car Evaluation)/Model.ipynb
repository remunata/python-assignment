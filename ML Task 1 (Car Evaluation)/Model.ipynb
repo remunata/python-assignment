{
 "cells": [
  {
   "cell_type": "code",
   "execution_count": 11,
   "id": "55b359ad",
   "metadata": {},
   "outputs": [],
   "source": [
    "import pandas as pd\n",
    "import matplotlib.pyplot as plt\n",
    "import seaborn as sns\n",
    "from sklearn.model_selection import train_test_split\n",
    "from sklearn.metrics import multilabel_confusion_matrix\n",
    "from sklearn.metrics import accuracy_score"
   ]
  },
  {
   "cell_type": "code",
   "execution_count": 12,
   "id": "182f23dd",
   "metadata": {},
   "outputs": [
    {
     "data": {
      "text/html": [
       "<div>\n",
       "<style scoped>\n",
       "    .dataframe tbody tr th:only-of-type {\n",
       "        vertical-align: middle;\n",
       "    }\n",
       "\n",
       "    .dataframe tbody tr th {\n",
       "        vertical-align: top;\n",
       "    }\n",
       "\n",
       "    .dataframe thead th {\n",
       "        text-align: right;\n",
       "    }\n",
       "</style>\n",
       "<table border=\"1\" class=\"dataframe\">\n",
       "  <thead>\n",
       "    <tr style=\"text-align: right;\">\n",
       "      <th></th>\n",
       "      <th>buying</th>\n",
       "      <th>maint</th>\n",
       "      <th>doors</th>\n",
       "      <th>persons</th>\n",
       "      <th>lug_boot</th>\n",
       "      <th>safety</th>\n",
       "      <th>class</th>\n",
       "    </tr>\n",
       "  </thead>\n",
       "  <tbody>\n",
       "    <tr>\n",
       "      <th>0</th>\n",
       "      <td>vhigh</td>\n",
       "      <td>vhigh</td>\n",
       "      <td>2</td>\n",
       "      <td>2</td>\n",
       "      <td>small</td>\n",
       "      <td>low</td>\n",
       "      <td>unacc</td>\n",
       "    </tr>\n",
       "    <tr>\n",
       "      <th>1</th>\n",
       "      <td>vhigh</td>\n",
       "      <td>vhigh</td>\n",
       "      <td>2</td>\n",
       "      <td>2</td>\n",
       "      <td>small</td>\n",
       "      <td>med</td>\n",
       "      <td>unacc</td>\n",
       "    </tr>\n",
       "    <tr>\n",
       "      <th>2</th>\n",
       "      <td>vhigh</td>\n",
       "      <td>vhigh</td>\n",
       "      <td>2</td>\n",
       "      <td>2</td>\n",
       "      <td>small</td>\n",
       "      <td>high</td>\n",
       "      <td>unacc</td>\n",
       "    </tr>\n",
       "    <tr>\n",
       "      <th>3</th>\n",
       "      <td>vhigh</td>\n",
       "      <td>vhigh</td>\n",
       "      <td>2</td>\n",
       "      <td>2</td>\n",
       "      <td>med</td>\n",
       "      <td>low</td>\n",
       "      <td>unacc</td>\n",
       "    </tr>\n",
       "    <tr>\n",
       "      <th>4</th>\n",
       "      <td>vhigh</td>\n",
       "      <td>vhigh</td>\n",
       "      <td>2</td>\n",
       "      <td>2</td>\n",
       "      <td>med</td>\n",
       "      <td>med</td>\n",
       "      <td>unacc</td>\n",
       "    </tr>\n",
       "    <tr>\n",
       "      <th>...</th>\n",
       "      <td>...</td>\n",
       "      <td>...</td>\n",
       "      <td>...</td>\n",
       "      <td>...</td>\n",
       "      <td>...</td>\n",
       "      <td>...</td>\n",
       "      <td>...</td>\n",
       "    </tr>\n",
       "    <tr>\n",
       "      <th>1723</th>\n",
       "      <td>low</td>\n",
       "      <td>low</td>\n",
       "      <td>5more</td>\n",
       "      <td>more</td>\n",
       "      <td>med</td>\n",
       "      <td>med</td>\n",
       "      <td>good</td>\n",
       "    </tr>\n",
       "    <tr>\n",
       "      <th>1724</th>\n",
       "      <td>low</td>\n",
       "      <td>low</td>\n",
       "      <td>5more</td>\n",
       "      <td>more</td>\n",
       "      <td>med</td>\n",
       "      <td>high</td>\n",
       "      <td>vgood</td>\n",
       "    </tr>\n",
       "    <tr>\n",
       "      <th>1725</th>\n",
       "      <td>low</td>\n",
       "      <td>low</td>\n",
       "      <td>5more</td>\n",
       "      <td>more</td>\n",
       "      <td>big</td>\n",
       "      <td>low</td>\n",
       "      <td>unacc</td>\n",
       "    </tr>\n",
       "    <tr>\n",
       "      <th>1726</th>\n",
       "      <td>low</td>\n",
       "      <td>low</td>\n",
       "      <td>5more</td>\n",
       "      <td>more</td>\n",
       "      <td>big</td>\n",
       "      <td>med</td>\n",
       "      <td>good</td>\n",
       "    </tr>\n",
       "    <tr>\n",
       "      <th>1727</th>\n",
       "      <td>low</td>\n",
       "      <td>low</td>\n",
       "      <td>5more</td>\n",
       "      <td>more</td>\n",
       "      <td>big</td>\n",
       "      <td>high</td>\n",
       "      <td>vgood</td>\n",
       "    </tr>\n",
       "  </tbody>\n",
       "</table>\n",
       "<p>1728 rows × 7 columns</p>\n",
       "</div>"
      ],
      "text/plain": [
       "     buying  maint  doors persons lug_boot safety  class\n",
       "0     vhigh  vhigh      2       2    small    low  unacc\n",
       "1     vhigh  vhigh      2       2    small    med  unacc\n",
       "2     vhigh  vhigh      2       2    small   high  unacc\n",
       "3     vhigh  vhigh      2       2      med    low  unacc\n",
       "4     vhigh  vhigh      2       2      med    med  unacc\n",
       "...     ...    ...    ...     ...      ...    ...    ...\n",
       "1723    low    low  5more    more      med    med   good\n",
       "1724    low    low  5more    more      med   high  vgood\n",
       "1725    low    low  5more    more      big    low  unacc\n",
       "1726    low    low  5more    more      big    med   good\n",
       "1727    low    low  5more    more      big   high  vgood\n",
       "\n",
       "[1728 rows x 7 columns]"
      ]
     },
     "execution_count": 12,
     "metadata": {},
     "output_type": "execute_result"
    }
   ],
   "source": [
    "original_data = pd.read_csv('datasets/car.data', header=None)\n",
    "original_data.columns = ['buying', 'maint', 'doors', 'persons', 'lug_boot', 'safety', 'class']\n",
    "original_data"
   ]
  },
  {
   "cell_type": "code",
   "execution_count": 13,
   "id": "70bbd933-685f-4f06-a40e-5de2a9ac517e",
   "metadata": {},
   "outputs": [
    {
     "name": "stdout",
     "output_type": "stream",
     "text": [
      "<class 'pandas.core.frame.DataFrame'>\n",
      "Index: 150 entries, 1515 to 844\n",
      "Data columns (total 7 columns):\n",
      " #   Column    Non-Null Count  Dtype \n",
      "---  ------    --------------  ----- \n",
      " 0   buying    150 non-null    object\n",
      " 1   maint     150 non-null    object\n",
      " 2   doors     150 non-null    object\n",
      " 3   persons   150 non-null    object\n",
      " 4   lug_boot  150 non-null    object\n",
      " 5   safety    150 non-null    object\n",
      " 6   class     150 non-null    object\n",
      "dtypes: object(7)\n",
      "memory usage: 9.4+ KB\n"
     ]
    }
   ],
   "source": [
    "reduced_data, _ = train_test_split(original_data, train_size = 150, stratify=original_data['class'], random_state=42)\n",
    "reduced_data.info()"
   ]
  },
  {
   "cell_type": "code",
   "execution_count": 14,
   "id": "db8b3e27-89a5-499f-a95f-409e71b7d897",
   "metadata": {},
   "outputs": [],
   "source": [
    "# save reduced data for further assignment\n",
    "reduced_data.to_excel('datasets/reduced_data.xlsx')"
   ]
  },
  {
   "cell_type": "code",
   "execution_count": 15,
   "id": "a1724145",
   "metadata": {},
   "outputs": [
    {
     "data": {
      "image/png": "[encoded data removed]",
      "text/plain": [
       "<Figure size 600x400 with 1 Axes>"
      ]
     },
     "metadata": {},
     "output_type": "display_data"
    }
   ],
   "source": [
    "plt.figure(figsize=(6, 4))\n",
    "reduced_data['class'].value_counts().sort_index().plot(kind='bar')\n",
    "plt.title(\"Class Distribution in Reduced Dataset\")\n",
    "plt.xlabel('Class')\n",
    "plt.ylabel(\"Count\")\n",
    "plt.show()"
   ]
  },
  {
   "cell_type": "markdown",
   "id": "3bcb8d79-0add-4e22-ade5-42bdb7e76a4a",
   "metadata": {},
   "source": [
    "# Training"
   ]
  },
  {
   "cell_type": "code",
   "execution_count": 16,
   "id": "97935926",
   "metadata": {},
   "outputs": [],
   "source": [
    "train_data, test_data = train_test_split(reduced_data, test_size = 0.3, random_state=42)\n",
    "\n",
    "# save train and test data for further assignment\n",
    "train_data.to_excel('datasets/train_data.xlsx')\n",
    "test_data.to_excel('datasets/test_data.xlsx')"
   ]
  },
  {
   "cell_type": "code",
   "execution_count": 17,
   "id": "5f6a503e-5f89-46f8-9705-a2ede1bcd76a",
   "metadata": {},
   "outputs": [],
   "source": [
    "naive_bayes = {} # initialize dictionary to contain all possibilities\n",
    "\n",
    "# calculate label bayes\n",
    "label = {}\n",
    "label_grouped = train_data.groupby('class')\n",
    "for name, data in label_grouped:\n",
    "    bayes = data.shape[0] / train_data.shape[0]\n",
    "    label[name] = bayes\n",
    "naive_bayes['class'] = label\n",
    "\n",
    "train_feature = train_data.drop('class', axis=1)\n",
    "columns = train_feature.columns\n",
    "\n",
    "# calculate features bayes\n",
    "labels = train_data['class'].unique()\n",
    "for column in columns:\n",
    "    feature_cross = pd.crosstab(train_data[column], train_data['class'], margins=True).unstack().reorder_levels((column, 'class'))\n",
    "    feature_categories = train_data[column].unique()\n",
    "    column_bayes = {}\n",
    "    for category in feature_categories:\n",
    "        category_bayes = {}\n",
    "        for label in labels:\n",
    "            bayes = float(feature_cross.loc[category, label] / feature_cross.loc['All', label])\n",
    "            category_bayes[label] = bayes\n",
    "        column_bayes[category] = category_bayes\n",
    "    naive_bayes[column] = column_bayes"
   ]
  },
  {
   "cell_type": "markdown",
   "id": "5c43bb07-11db-458a-8ea2-e32a966fc73f",
   "metadata": {},
   "source": [
    "# Test Model"
   ]
  },
  {
   "cell_type": "code",
   "execution_count": 18,
   "id": "0e184940-93ca-492c-9ec8-d973211c6267",
   "metadata": {},
   "outputs": [],
   "source": [
    "predictions = []\n",
    "true_labels = []\n",
    "labels = ['unacc', 'acc', 'good', 'vgood']\n",
    "columns = ['buying', 'maint', 'doors', 'persons', 'lug_boot', 'safety']\n",
    "for i in test_data.index:\n",
    "    row = test_data.loc[i]\n",
    "    pred = ''\n",
    "    likelihood = 0\n",
    "    for label in labels:\n",
    "        bayes = 1\n",
    "        for column in columns:\n",
    "            bayes *= naive_bayes[column][row[column]][label]\n",
    "        bayes *= naive_bayes['class'][label]\n",
    "        if bayes > likelihood:\n",
    "            pred = label\n",
    "            likelihood = bayes\n",
    "    predictions.append(pred)\n",
    "    true_labels.append(row['class'])"
   ]
  },
  {
   "cell_type": "markdown",
   "id": "ca52bc7e-c02d-441d-ae37-2622f4c38951",
   "metadata": {},
   "source": [
    "# Confusion Matrix"
   ]
  },
  {
   "cell_type": "code",
   "execution_count": 19,
   "id": "c285ebbd-2594-487b-9467-afb8cbdbb34c",
   "metadata": {},
   "outputs": [
    {
     "data": {
      "image/png": "[encoded data removed]",
      "text/plain": [
       "<Figure size 700x700 with 4 Axes>"
      ]
     },
     "metadata": {},
     "output_type": "display_data"
    }
   ],
   "source": [
    "cm = multilabel_confusion_matrix(true_labels, predictions, labels=labels)\n",
    "cm_labels = ['Negative', 'Positive']\n",
    "fig, axes = plt.subplots(2, 2, figsize=(7, 7))\n",
    "axes = axes.ravel()\n",
    "\n",
    "for i in range(4):\n",
    "    cm_df = pd.DataFrame(cm[i], index=cm_labels, columns=cm_labels)\n",
    "    sns.heatmap(cm_df, annot=True, cmap='Greens', ax=axes[i], cbar=False)\n",
    "    axes[i].set_xlabel('Predicted')\n",
    "    axes[i].set_ylabel('Actual')\n",
    "    title = \"Confusion Matrix of \" + labels[i]\n",
    "    axes[i].set_title(title)\n",
    "\n",
    "plt.tight_layout()\n",
    "plt.show()"
   ]
  },
  {
   "cell_type": "code",
   "execution_count": 20,
   "id": "0ecc415f-376f-45f7-ab71-085ebccc816e",
   "metadata": {},
   "outputs": [
    {
     "name": "stdout",
     "output_type": "stream",
     "text": [
      "Accuracy: 0.7555555555555555\n"
     ]
    }
   ],
   "source": [
    "accuracy = accuracy_score(true_labels, predictions)\n",
    "print(f\"Accuracy: {accuracy}\")"
   ]
  }
 ],
 "metadata": {
  "kernelspec": {
   "display_name": "Python 3 (ipykernel)",
   "language": "python",
   "name": "python3"
  },
  "language_info": {
   "codemirror_mode": {
    "name": "ipython",
    "version": 3
   },
   "file_extension": ".py",
   "mimetype": "text/x-python",
   "name": "python",
   "nbconvert_exporter": "python",
   "pygments_lexer": "ipython3",
   "version": "3.10.12"
  }
 },
 "nbformat": 4,
 "nbformat_minor": 5
}
